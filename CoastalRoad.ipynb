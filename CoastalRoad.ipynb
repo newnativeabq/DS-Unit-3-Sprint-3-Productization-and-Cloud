{
 "cells": [
  {
   "cell_type": "markdown",
   "metadata": {
    "colab_type": "text",
    "id": "yNFO9y0Jw6PJ"
   },
   "source": [
    "### The lava on newly formed Lambda Island has finally cooled enough to build a new coastal road. We want to figure out the length of the new road by determining the perimeter of the island.\n",
    "\n",
    "### The function road_length(island) returns an integer equal to the number of road lengths needed. island is a matrix representing the map of the island, entered as a list of lists, where 'W' represents water and 'I' represents the island. \n",
    "\n",
    "### Wherever the island meets the water (or the edge of the map) we want to build a road. There are no lakes, the island is contiguous, and there is only one island per map. We are only interested in the four cardinal directions, not diagonals.\n",
    "\n",
    "### In the example below we need 6 lengths of road, two on the north (top), one on the east (right), two on the south (bottom) and one on the west (left).\n",
    "\n",
    "\n",
    "\n",
    "### Stretch goals:\n",
    "* PEP8 compliance\n",
    "* 50 jumping jacks\n",
    "* Go outside and get a deep breath of air (maybe pretend you're on Lambda Island)\n",
    "\n",
    "\n"
   ]
  },
  {
   "cell_type": "markdown",
   "metadata": {
    "colab_type": "text",
    "id": "ULJMQAR0xZTw"
   },
   "source": [
    "### Example: "
   ]
  },
  {
   "cell_type": "code",
   "execution_count": null,
   "metadata": {
    "colab": {
     "base_uri": "https://localhost:8080/",
     "height": 34
    },
    "colab_type": "code",
    "id": "uq9SNnwVxXmS",
    "outputId": "2d83564b-5a73-4348-ca67-a22573f675f0"
   },
   "outputs": [
    {
     "name": "stdout",
     "output_type": "stream",
     "text": [
      "6\n"
     ]
    }
   ],
   "source": [
    "#Input:\n",
    "lambda_island = [['W', 'W', 'W'],\n",
    "                 ['W', 'I', 'I'],\n",
    "                 ['W', 'W', 'W']]\n",
    "print(road_length(lambda_island))\n",
    "#Output:\n",
    "6\n"
   ]
  },
  {
   "cell_type": "markdown",
   "metadata": {
    "colab_type": "text",
    "id": "bOQfrCQbxhhH"
   },
   "source": [
    "### Your code goes here"
   ]
  },
  {
   "cell_type": "code",
   "execution_count": 103,
   "metadata": {
    "colab": {},
    "colab_type": "code",
    "id": "ljf75fhRwRSK"
   },
   "outputs": [],
   "source": [
    "import math\n",
    "\n",
    "\n",
    "class Point():\n",
    "    def __init__(self, x=None, y=None, island=None):\n",
    "        self.x = x\n",
    "        self.y = y\n",
    "        self.island = island\n",
    "        self.type = island[y][x]\n",
    "    \n",
    "    def __repr__(self):\n",
    "        return '({},{}): {}'.format(self.x, self.y,self.island[self.y][self.x])\n",
    "    \n",
    "    def get_w(self):\n",
    "        map_shape = get_map_shape(self.island)\n",
    "        surroundings = self.get_surroundings(map_shape)\n",
    "        num_w = 0\n",
    "        # print(surroundings) # debug\n",
    "        for key, val in surroundings.items():\n",
    "            if val == 'W':\n",
    "                num_w += 1\n",
    "                \n",
    "        # if peninsula (3 cardinal directions of water) add two more for diagonal\n",
    "        if num_w == 3:\n",
    "            return num_w + 2\n",
    "        return num_w\n",
    "\n",
    "    def get_surroundings(self, map_shape):\n",
    "        surroundings = {}\n",
    "        surroundings[0] = (self.look(x=self.x, y=self.y+1, map_shape=map_shape))\n",
    "        surroundings[1] = (self.look(x=self.x+1, y=self.y, map_shape=map_shape))\n",
    "        surroundings[2] = (self.look(x=self.x, y=self.y-1, map_shape=map_shape))\n",
    "        surroundings[3] = (self.look(x=self.x-1, y=self.y, map_shape=map_shape))\n",
    "        return surroundings\n",
    "    \n",
    "    def look(self, x, y, map_shape):\n",
    "        if in_range(map_shape=map_shape, coordinates=(x, y)):\n",
    "            return self.island[y][x]\n",
    "        return None\n",
    "        \n",
    "\n",
    "def in_range(map_shape, coordinates):\n",
    "    # If coordinates negative, return False\n",
    "    if (coordinates[0] < 0) or (coordinates[1] < 0):\n",
    "        return False\n",
    "    \n",
    "    # Check positive coordinates\n",
    "    if (coordinates[0] < map_shape[0]) & (coordinates[1] < map_shape[1]):\n",
    "        return True\n",
    "    return False\n",
    "    \n",
    "def get_map_shape(island):\n",
    "    # Assumes full grid\n",
    "    x = len(island[0])\n",
    "    y = len(island)\n",
    "    return (x, y)\n",
    "    \n",
    "def road_length(island):\n",
    "    # Assuming I contiguous\n",
    "    map_shape = get_map_shape(island)\n",
    "    water_view = 0\n",
    "    remaining_view = 0\n",
    "    for x in range(map_shape[0]):\n",
    "        for y in range(map_shape[1]):\n",
    "            point = Point(x,y,island)\n",
    "            if point.type == 'I':\n",
    "                water_view += point.get_w()\n",
    "                remaining_view += 4-point.get_w()\n",
    "    return water_view\n",
    "\n",
    "lambda_island = [['W', 'W', 'W'],\n",
    "                 ['I', 'I', 'W'],\n",
    "                 ['W', 'W', 'W']]\n"
   ]
  },
  {
   "cell_type": "code",
   "execution_count": 104,
   "metadata": {},
   "outputs": [
    {
     "data": {
      "text/plain": [
       "7"
      ]
     },
     "execution_count": 104,
     "metadata": {},
     "output_type": "execute_result"
    }
   ],
   "source": [
    "road_length(lambda_island)"
   ]
  },
  {
   "cell_type": "code",
   "execution_count": null,
   "metadata": {},
   "outputs": [],
   "source": []
  },
  {
   "cell_type": "code",
   "execution_count": null,
   "metadata": {},
   "outputs": [],
   "source": []
  }
 ],
 "metadata": {
  "colab": {
   "name": "CoastalRoad.ipynb",
   "provenance": []
  },
  "kernelspec": {
   "display_name": "Python 3",
   "language": "python",
   "name": "python3"
  },
  "language_info": {
   "codemirror_mode": {
    "name": "ipython",
    "version": 3
   },
   "file_extension": ".py",
   "mimetype": "text/x-python",
   "name": "python",
   "nbconvert_exporter": "python",
   "pygments_lexer": "ipython3",
   "version": "3.7.4"
  }
 },
 "nbformat": 4,
 "nbformat_minor": 4
}
