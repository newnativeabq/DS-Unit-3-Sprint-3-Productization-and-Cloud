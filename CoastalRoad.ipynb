{
  "nbformat": 4,
  "nbformat_minor": 0,
  "metadata": {
    "colab": {
      "name": "CoastalRoad.ipynb",
      "provenance": []
    },
    "kernelspec": {
      "name": "python3",
      "display_name": "Python 3"
    }
  },
  "cells": [
    {
      "cell_type": "markdown",
      "metadata": {
        "id": "yNFO9y0Jw6PJ",
        "colab_type": "text"
      },
      "source": [
        "### The lava on newly formed Lambda Island has finally cooled enough to build a new coastal road. We want to figure out the length of the new road by determining the perimeter of the island.\n",
        "\n",
        "### The function road_length(island) returns an integer equal to the number of road lengths needed. island is a matrix representing the map of the island, entered as a list of lists, where 'W' represents water and 'I' represents the island. \n",
        "\n",
        "### Wherever the island meets the water (or the edge of the map) we want to build a road. There are no lakes, the island is contiguous, and there is only one island per map. We are only interested in the four cardinal directions, not diagonals.\n",
        "\n",
        "### In the example below we need 6 lengths of road, two on the north (top), one on the east (right), two on the south (bottom) and one on the west (left).\n",
        "\n",
        "\n",
        "\n",
        "### Stretch goals:\n",
        "* PEP8 compliance\n",
        "* 50 jumping jacks\n",
        "* Go outside and get a deep breath of air (maybe pretend you're on Lambda Island)\n",
        "\n",
        "\n"
      ]
    },
    {
      "cell_type": "markdown",
      "metadata": {
        "id": "ULJMQAR0xZTw",
        "colab_type": "text"
      },
      "source": [
        "### Example: "
      ]
    },
    {
      "cell_type": "code",
      "metadata": {
        "id": "uq9SNnwVxXmS",
        "colab_type": "code",
        "outputId": "2d83564b-5a73-4348-ca67-a22573f675f0",
        "colab": {
          "base_uri": "https://localhost:8080/",
          "height": 34
        }
      },
      "source": [
        "#Input:\n",
        "lambda_island = [['W', 'W', 'W'],\n",
        "                 ['W', 'I', 'I'],\n",
        "                 ['W', 'W', 'W']]\n",
        "print(road_length(lambda_island))\n",
        "#Output:\n",
        "6\n"
      ],
      "execution_count": 0,
      "outputs": [
        {
          "output_type": "stream",
          "text": [
            "6\n"
          ],
          "name": "stdout"
        }
      ]
    },
    {
      "cell_type": "markdown",
      "metadata": {
        "id": "bOQfrCQbxhhH",
        "colab_type": "text"
      },
      "source": [
        "### Your code goes here"
      ]
    },
    {
      "cell_type": "code",
      "metadata": {
        "id": "ljf75fhRwRSK",
        "colab_type": "code",
        "colab": {}
      },
      "source": [
        "def road_length(island):\n",
        "    pass\n",
        "\n",
        "lambda_island = [['W', 'W', 'W'],\n",
        "                 ['W', 'I', 'I'],\n",
        "                 ['W', 'W', 'W']]\n",
        "\n",
        "# print(road_length(lambda_island))\n"
      ],
      "execution_count": 0,
      "outputs": []
    }
  ]
}